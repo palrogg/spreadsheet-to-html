{
 "cells": [
  {
   "cell_type": "markdown",
   "metadata": {},
   "source": [
    "# Spreadsheets to HTML using pandas\n",
    "This notebook fetches Google Spreadsheets to fill HTML templates.\n",
    "\n",
    "The goal is to allow non-coders to edit the content, but also to be able to easily handcode some parts of the page for the fine-tuning.\n",
    "\n",
    "At first, this was a quick solution coded in 5 hours. It is not an example of good coding practice…"
   ]
  },
  {
   "cell_type": "code",
   "execution_count": 1,
   "metadata": {},
   "outputs": [],
   "source": [
    "import pandas as pd\n",
    "from re import findall\n",
    "import urllib.parse # to encode the URL\n",
    "from datetime import datetime\n",
    "import define # we store the FTP access in this file\n",
    "\n",
    "\n",
    "BASEURL = 'https://tdg.ch/extern/interactive_wch/tdg/womeninaction/'\n",
    "BASEURL_VQH = 'https://www.24heures.ch/extern/interactive_wch/womeninaction/'\n",
    "\n",
    "LOCAL_FOLDER = '/Users/paul/Sites/womeninaction/'\n",
    "LOCAL_FOLDER_VQH = '/Users/paul/Sites/womeninaction/vqh'\n",
    "\n",
    "story_limit = 5\n",
    "week = 4\n",
    "week_url = \"{}semaine{}.html\".format(BASEURL, week)\n",
    "week_titles = [None, 'Education', 'Economie', 'Santé', 'Société']\n",
    "week_visuals = [None, 'Visuel-Sem1.jpg', 'Visuel-Sem2.jpg', 'Visuel-Sem3.jpg', 'Visuel-Sem4.jpg']\n",
    "video_replacements = {\n",
    "    'pWFxc1LHZeQ': '4Q_B-jhTUgA', # week 2\n",
    "    '5K4i-9X8HwQ': '3cuOulVH1xI', # week 3\n",
    "    '-rr9gvLef7U': 'SSlsUFPd7bU', # week 4\n",
    "    '-NUI1Hl42PM': 'byuxHL01mvI', # also week 4    \n",
    "}"
   ]
  },
  {
   "cell_type": "code",
   "execution_count": 2,
   "metadata": {
    "collapsed": true
   },
   "outputs": [],
   "source": [
    "# the URL of each Google Sheet\n",
    "files = {\n",
    "    1: [\n",
    "        'https://docs.google.com/a/tdg.ch/spreadsheets/d/13rPxzFdu7ScFINTcCc_lHbd1_ep7Nt7fX6bV45TAYAs/export?format=csv&id=13rPxzFdu7ScFINTcCc_lHbd1_ep7Nt7fX6bV45TAYAs&gid=0',\n",
    "        'https://docs.google.com/a/tdg.ch/spreadsheets/d/13rPxzFdu7ScFINTcCc_lHbd1_ep7Nt7fX6bV45TAYAs/export?format=csv&id=13rPxzFdu7ScFINTcCc_lHbd1_ep7Nt7fX6bV45TAYAs&gid=199185693',\n",
    "        'https://docs.google.com/a/tdg.ch/spreadsheets/d/13rPxzFdu7ScFINTcCc_lHbd1_ep7Nt7fX6bV45TAYAs/export?format=csv&id=13rPxzFdu7ScFINTcCc_lHbd1_ep7Nt7fX6bV45TAYAs&gid=2058868552'\n",
    "    ],\n",
    "    2: [\n",
    "        'https://docs.google.com/spreadsheets/d/1ci_Lo006eeY8qQcimKisn6D0ru-aXFCy7GiPSLQZ4AE/export?format=csv&id=1ci_Lo006eeY8qQcimKisn6D0ru-aXFCy7GiPSLQZ4AE&gid=0',\n",
    "        'https://docs.google.com/spreadsheets/d/1ci_Lo006eeY8qQcimKisn6D0ru-aXFCy7GiPSLQZ4AE/export?format=csv&id=1ci_Lo006eeY8qQcimKisn6D0ru-aXFCy7GiPSLQZ4AE&gid=199185693',\n",
    "        'https://docs.google.com/spreadsheets/d/1ci_Lo006eeY8qQcimKisn6D0ru-aXFCy7GiPSLQZ4AE/export?format=csv&id=1ci_Lo006eeY8qQcimKisn6D0ru-aXFCy7GiPSLQZ4AE&gid=2058868552'\n",
    "    ],\n",
    "    3: [\n",
    "        'https://docs.google.com/a/tdg.ch/spreadsheets/d/14t2FUu-7KMmHtjdBadNAF2YjlMwhxYd57FMo-HVRIOM/export?format=csv&id=14t2FUu-7KMmHtjdBadNAF2YjlMwhxYd57FMo-HVRIOM&gid=0',\n",
    "        'https://docs.google.com/a/tdg.ch/spreadsheets/d/14t2FUu-7KMmHtjdBadNAF2YjlMwhxYd57FMo-HVRIOM/export?format=csv&id=14t2FUu-7KMmHtjdBadNAF2YjlMwhxYd57FMo-HVRIOM&gid=199185693',\n",
    "        'https://docs.google.com/a/tdg.ch/spreadsheets/d/14t2FUu-7KMmHtjdBadNAF2YjlMwhxYd57FMo-HVRIOM/export?format=csv&id=14t2FUu-7KMmHtjdBadNAF2YjlMwhxYd57FMo-HVRIOM&gid=2058868552'\n",
    "    ],\n",
    "    4: [\n",
    "        'https://docs.google.com/a/tdg.ch/spreadsheets/d/1-FbN9WxYD1d9ZB0NWL_u2MQ6SVmfkKuSrAsNrmORihk/export?format=csv&id=1-FbN9WxYD1d9ZB0NWL_u2MQ6SVmfkKuSrAsNrmORihk&gid=0',\n",
    "        'https://docs.google.com/a/tdg.ch/spreadsheets/d/1-FbN9WxYD1d9ZB0NWL_u2MQ6SVmfkKuSrAsNrmORihk/export?format=csv&id=1-FbN9WxYD1d9ZB0NWL_u2MQ6SVmfkKuSrAsNrmORihk&gid=199185693',\n",
    "        'https://docs.google.com/a/tdg.ch/spreadsheets/d/1-FbN9WxYD1d9ZB0NWL_u2MQ6SVmfkKuSrAsNrmORihk/export?format=csv&id=1-FbN9WxYD1d9ZB0NWL_u2MQ6SVmfkKuSrAsNrmORihk&gid=2058868552'\n",
    "    ]\n",
    "}"
   ]
  },
  {
   "cell_type": "code",
   "execution_count": 3,
   "metadata": {
    "collapsed": true
   },
   "outputs": [],
   "source": [
    "df = pd.read_csv(files[week][0])\n",
    "dft = pd.read_csv(files[week][1])\n",
    "dfi = pd.read_csv(files[week][2])"
   ]
  },
  {
   "cell_type": "code",
   "execution_count": 4,
   "metadata": {},
   "outputs": [
    {
     "data": {
      "text/html": [
       "<div>\n",
       "<style>\n",
       "    .dataframe thead tr:only-child th {\n",
       "        text-align: right;\n",
       "    }\n",
       "\n",
       "    .dataframe thead th {\n",
       "        text-align: left;\n",
       "    }\n",
       "\n",
       "    .dataframe tbody tr th {\n",
       "        vertical-align: top;\n",
       "    }\n",
       "</style>\n",
       "<table border=\"1\" class=\"dataframe\">\n",
       "  <thead>\n",
       "    <tr style=\"text-align: right;\">\n",
       "      <th></th>\n",
       "      <th>No</th>\n",
       "      <th>Titre</th>\n",
       "      <th>Date</th>\n",
       "      <th>Auteur(s)</th>\n",
       "      <th>Média</th>\n",
       "      <th>En savoir plus</th>\n",
       "      <th>URL image</th>\n",
       "      <th>Légende image</th>\n",
       "      <th>Crédit image</th>\n",
       "      <th>Chapeau</th>\n",
       "      <th>Corps du texte</th>\n",
       "    </tr>\n",
       "  </thead>\n",
       "  <tbody>\n",
       "    <tr>\n",
       "      <th>0</th>\n",
       "      <td>1</td>\n",
       "      <td>Au Nigéria, des femmes donnent le signal du ch...</td>\n",
       "      <td>4 décembre 2017</td>\n",
       "      <td>Praise Olowe</td>\n",
       "      <td>The Nation (Nigéria)</td>\n",
       "      <td>http://wisenigeria.org/</td>\n",
       "      <td>https://files.newsnetz.ch/upload//1/5/151081.jpg</td>\n",
       "      <td>De nombreuses Nigérianes sont astreintes à des...</td>\n",
       "      <td>Olanike Oluboji</td>\n",
       "      <td>Une organisation nigériane à but non lucratif ...</td>\n",
       "      <td>Dans le Nigéria rural, cuisiner peut tuer. Sel...</td>\n",
       "    </tr>\n",
       "    <tr>\n",
       "      <th>1</th>\n",
       "      <td>2</td>\n",
       "      <td>Au Sénégal, coup d’envoi d’une nouvelle ère po...</td>\n",
       "      <td>5 décembre 2017</td>\n",
       "      <td>Idrissa Sané</td>\n",
       "      <td>Le Soleil (Sénégal)</td>\n",
       "      <td>http://www.ladiesturn.org/LadiesTurn_Francais/...</td>\n",
       "      <td>https://files.newsnetz.ch/upload//1/5/151769.jpg</td>\n",
       "      <td>La présidente de Ladies' Turn, Seyni Ndir Seck...</td>\n",
       "      <td>Ladies' Turn</td>\n",
       "      <td>L'association Ladies' Turn promeut le sport fé...</td>\n",
       "      <td>Dans l’atmosphère frénétique du nord de Dakar,...</td>\n",
       "    </tr>\n",
       "    <tr>\n",
       "      <th>2</th>\n",
       "      <td>3</td>\n",
       "      <td>À Saint-Denis, une Maison des femmes au secour...</td>\n",
       "      <td>6 décembre 2017</td>\n",
       "      <td>Stéphane Kovacs</td>\n",
       "      <td>Le Figaro (France)</td>\n",
       "      <td>https://www.lamaisondesfemmes.fr/</td>\n",
       "      <td>https://files.newsnetz.ch/upload//1/5/151999.jpg</td>\n",
       "      <td>La gynécologue Ghada Hatem a fondé la Maison d...</td>\n",
       "      <td>AFP</td>\n",
       "      <td>Dans cette ville où l’accès aux soins passe es...</td>\n",
       "      <td>«Entre ces murs, il n’y aura pas de tabou», pr...</td>\n",
       "    </tr>\n",
       "    <tr>\n",
       "      <th>3</th>\n",
       "      <td>4</td>\n",
       "      <td>Du théâtre et des jeux pour briser la violence...</td>\n",
       "      <td>7 décembre 2017</td>\n",
       "      <td>Soumya Pillai</td>\n",
       "      <td>The Hindu (Inde)</td>\n",
       "      <td>https://www.inbreakthrough.tv/</td>\n",
       "      <td>https://files.newsnetz.ch/upload//1/5/152259.jpg</td>\n",
       "      <td>Les pièces de théâtre présentées en plein air ...</td>\n",
       "      <td>Breakthrough India</td>\n",
       "      <td>L'ONG Breakthrough India aide les femmes à com...</td>\n",
       "      <td>Sunaina, 14 ans, vit dans un village du nord d...</td>\n",
       "    </tr>\n",
       "    <tr>\n",
       "      <th>4</th>\n",
       "      <td>5</td>\n",
       "      <td>Au Burkina Faso, la loi sur les quotas de femm...</td>\n",
       "      <td>8 décembre 2017</td>\n",
       "      <td>Sandrine Sawadogo</td>\n",
       "      <td>L'Economiste du Faso</td>\n",
       "      <td>http://lefaso.net/spip.php?article77379</td>\n",
       "      <td>https://www.tdg.ch/extern/interactive_wch/tdg/...</td>\n",
       "      <td>Le parlement burkinabé en 2008. Huit ans après...</td>\n",
       "      <td>AFP</td>\n",
       "      <td>Depuis le 16 avril 2009, 30% au moins des cand...</td>\n",
       "      <td>Depuis le 16 avril 2009, 30% au moins des cand...</td>\n",
       "    </tr>\n",
       "  </tbody>\n",
       "</table>\n",
       "</div>"
      ],
      "text/plain": [
       "   No                                              Titre             Date  \\\n",
       "0   1  Au Nigéria, des femmes donnent le signal du ch...  4 décembre 2017   \n",
       "1   2  Au Sénégal, coup d’envoi d’une nouvelle ère po...  5 décembre 2017   \n",
       "2   3  À Saint-Denis, une Maison des femmes au secour...  6 décembre 2017   \n",
       "3   4  Du théâtre et des jeux pour briser la violence...  7 décembre 2017   \n",
       "4   5  Au Burkina Faso, la loi sur les quotas de femm...  8 décembre 2017   \n",
       "\n",
       "           Auteur(s)                 Média  \\\n",
       "0       Praise Olowe  The Nation (Nigéria)   \n",
       "1       Idrissa Sané   Le Soleil (Sénégal)   \n",
       "2    Stéphane Kovacs    Le Figaro (France)   \n",
       "3      Soumya Pillai      The Hindu (Inde)   \n",
       "4  Sandrine Sawadogo  L'Economiste du Faso   \n",
       "\n",
       "                                      En savoir plus  \\\n",
       "0                            http://wisenigeria.org/   \n",
       "1  http://www.ladiesturn.org/LadiesTurn_Francais/...   \n",
       "2                  https://www.lamaisondesfemmes.fr/   \n",
       "3                     https://www.inbreakthrough.tv/   \n",
       "4            http://lefaso.net/spip.php?article77379   \n",
       "\n",
       "                                           URL image  \\\n",
       "0   https://files.newsnetz.ch/upload//1/5/151081.jpg   \n",
       "1   https://files.newsnetz.ch/upload//1/5/151769.jpg   \n",
       "2   https://files.newsnetz.ch/upload//1/5/151999.jpg   \n",
       "3   https://files.newsnetz.ch/upload//1/5/152259.jpg   \n",
       "4  https://www.tdg.ch/extern/interactive_wch/tdg/...   \n",
       "\n",
       "                                       Légende image        Crédit image  \\\n",
       "0  De nombreuses Nigérianes sont astreintes à des...     Olanike Oluboji   \n",
       "1  La présidente de Ladies' Turn, Seyni Ndir Seck...        Ladies' Turn   \n",
       "2  La gynécologue Ghada Hatem a fondé la Maison d...                 AFP   \n",
       "3  Les pièces de théâtre présentées en plein air ...  Breakthrough India   \n",
       "4  Le parlement burkinabé en 2008. Huit ans après...                 AFP   \n",
       "\n",
       "                                             Chapeau  \\\n",
       "0  Une organisation nigériane à but non lucratif ...   \n",
       "1  L'association Ladies' Turn promeut le sport fé...   \n",
       "2  Dans cette ville où l’accès aux soins passe es...   \n",
       "3  L'ONG Breakthrough India aide les femmes à com...   \n",
       "4  Depuis le 16 avril 2009, 30% au moins des cand...   \n",
       "\n",
       "                                      Corps du texte  \n",
       "0  Dans le Nigéria rural, cuisiner peut tuer. Sel...  \n",
       "1  Dans l’atmosphère frénétique du nord de Dakar,...  \n",
       "2  «Entre ces murs, il n’y aura pas de tabou», pr...  \n",
       "3  Sunaina, 14 ans, vit dans un village du nord d...  \n",
       "4  Depuis le 16 avril 2009, 30% au moins des cand...  "
      ]
     },
     "execution_count": 4,
     "metadata": {},
     "output_type": "execute_result"
    }
   ],
   "source": [
    "df = df.merge(dft, on='No')\n",
    "df.head(5)"
   ]
  },
  {
   "cell_type": "code",
   "execution_count": 5,
   "metadata": {
    "collapsed": true
   },
   "outputs": [],
   "source": [
    "teaser = '''        <div class=\"col-md-8 col-md-offset-2 col-xs-12 cell\" onclick=\"$('#article{storyid}').modal();\" data-modal=\"article{storyid}\">\n",
    "        <h4>{h4}</h4>\n",
    "        <h2>{h2}</h2>\n",
    "        <img class=\"teaser\" src=\"{img}\" />\n",
    "        <p class=\"lead\">{lead}</p>\n",
    "      </div>\n",
    "'''"
   ]
  },
  {
   "cell_type": "code",
   "execution_count": 6,
   "metadata": {
    "collapsed": true
   },
   "outputs": [],
   "source": [
    "img_and_caption = '''            <img class=\"stretch\" src=\"{img}\" />\n",
    "            <p class=\"legende\">{caption} <span class=\"credit\">{credit}</span></p>\n",
    "'''"
   ]
  },
  {
   "cell_type": "code",
   "execution_count": 7,
   "metadata": {
    "collapsed": true
   },
   "outputs": [],
   "source": [
    "def getSocial(_id, _titre):\n",
    "    _url = week_url + '?article=' + str(_id)\n",
    "    if not _id:\n",
    "        _url = week_url\n",
    "    _titre = urllib.parse.quote_plus(_titre)\n",
    "    url_title = _url + '%20' + _titre\n",
    "    \n",
    "    social = '''       <a href=\"https://twitter.com/intent/tweet?text={url_title}&amp;hashtags=WomenInAction,ImpactWomen\" title=\"Partager sur Twitter\" target=\"_blank\" class=\"btn btn-twitter\"><i class=\"fa fa-twitter\"></i></a>\n",
    "       <a href=\"https://www.facebook.com/sharer/sharer.php?u={url}\" title=\"Partager sur Facebook\" target=\"_blank\" class=\"btn btn-facebook\"><i class=\"fa fa-facebook\"></i></a>\n",
    "       <a href=\"http://www.linkedin.com/shareArticle?mini=true&amp;url={url}&amp;title={title}\" title=\"Partager sur LinkedIn\" target=\"_blank\" class=\"btn btn-linkedin\"><i class=\"fa fa-linkedin\"></i></a>'''\n",
    "    return social.format(url=_url, url_title=url_title, title=_titre)"
   ]
  },
  {
   "cell_type": "code",
   "execution_count": 8,
   "metadata": {
    "collapsed": true
   },
   "outputs": [],
   "source": [
    "def shortenText(text):\n",
    "    text = text.replace('http://', '').replace('https://', '').replace('www.', '')\n",
    "    parts = [i for i in text.split('/') if i != '']\n",
    "    if len(parts) > 1:\n",
    "        return parts[0] + '/' + '…'\n",
    "    else:\n",
    "        return text.strip('/')\n",
    "def getMoreLink(_link):\n",
    "    if _link != _link or _link == '':\n",
    "        return ''\n",
    "    else:\n",
    "        return '<p class=\"more_link\">En savoir plus: <a target=\"_blank\" href=\"{}\">{}</a></p>'.format(_link, shortenText(_link))"
   ]
  },
  {
   "cell_type": "code",
   "execution_count": 9,
   "metadata": {},
   "outputs": [
    {
     "data": {
      "text/html": [
       "<div>\n",
       "<style>\n",
       "    .dataframe thead tr:only-child th {\n",
       "        text-align: right;\n",
       "    }\n",
       "\n",
       "    .dataframe thead th {\n",
       "        text-align: left;\n",
       "    }\n",
       "\n",
       "    .dataframe tbody tr th {\n",
       "        vertical-align: top;\n",
       "    }\n",
       "</style>\n",
       "<table border=\"1\" class=\"dataframe\">\n",
       "  <thead>\n",
       "    <tr style=\"text-align: right;\">\n",
       "      <th></th>\n",
       "      <th>No</th>\n",
       "      <th>No image</th>\n",
       "      <th>Id (auto)</th>\n",
       "      <th>Légende</th>\n",
       "      <th>Crédit</th>\n",
       "    </tr>\n",
       "  </thead>\n",
       "  <tbody>\n",
       "    <tr>\n",
       "      <th>0</th>\n",
       "      <td>4</td>\n",
       "      <td>1</td>\n",
       "      <td>4-1</td>\n",
       "      <td>Une session de sensibilisation des communautés...</td>\n",
       "      <td>Breakthrough India</td>\n",
       "    </tr>\n",
       "    <tr>\n",
       "      <th>1</th>\n",
       "      <td>4</td>\n",
       "      <td>2</td>\n",
       "      <td>4-2</td>\n",
       "      <td>NaN</td>\n",
       "      <td>Breakthrough India</td>\n",
       "    </tr>\n",
       "    <tr>\n",
       "      <th>2</th>\n",
       "      <td>4</td>\n",
       "      <td>5</td>\n",
       "      <td>4-5</td>\n",
       "      <td>Le programme «Taaron Ki Toli» promeut l’égalit...</td>\n",
       "      <td>Breakthrough India</td>\n",
       "    </tr>\n",
       "  </tbody>\n",
       "</table>\n",
       "</div>"
      ],
      "text/plain": [
       "   No  No image Id (auto)                                            Légende  \\\n",
       "0   4         1       4-1  Une session de sensibilisation des communautés...   \n",
       "1   4         2       4-2                                                NaN   \n",
       "2   4         5       4-5  Le programme «Taaron Ki Toli» promeut l’égalit...   \n",
       "\n",
       "               Crédit  \n",
       "0  Breakthrough India  \n",
       "1  Breakthrough India  \n",
       "2  Breakthrough India  "
      ]
     },
     "execution_count": 9,
     "metadata": {},
     "output_type": "execute_result"
    }
   ],
   "source": [
    "dfi"
   ]
  },
  {
   "cell_type": "code",
   "execution_count": 10,
   "metadata": {},
   "outputs": [
    {
     "data": {
      "text/plain": [
       "{'4-1': '            <img class=\"stretch\" src=\"_img/chap4/modal4/photo1.jpg\" />\\n            <p class=\"legende\">Une session de sensibilisation des communautés et des travailleurs de santé organisée par Breakthrough dans le cadre de la campagne «Mission 1000». <span class=\"credit\">Breakthrough India</span></p>\\n',\n",
       " '4-2': '            <img class=\"stretch\" src=\"_img/chap4/modal4/photo2.jpg\" />\\n            <p class=\"legende\">nan <span class=\"credit\">Breakthrough India</span></p>\\n',\n",
       " '4-5': '            <img class=\"stretch\" src=\"_img/chap4/modal4/photo5.jpg\" />\\n            <p class=\"legende\">Le programme «Taaron Ki Toli» promeut l’égalité hommes-femmes dans les écoles. <span class=\"credit\">Breakthrough India</span></p>\\n'}"
      ]
     },
     "execution_count": 10,
     "metadata": {},
     "output_type": "execute_result"
    }
   ],
   "source": [
    "images_corps = {}\n",
    "for i, row in dfi.iterrows():\n",
    "    url_img = '_img/chap{}/modal{}/photo{}.jpg'.format(week, row['No'], row['No image'])\n",
    "    images_corps[row['Id (auto)']] = img_and_caption.format(img=url_img, caption=row['Légende'], credit=row['Crédit'])\n",
    "images_corps"
   ]
  },
  {
   "cell_type": "code",
   "execution_count": 11,
   "metadata": {
    "collapsed": true
   },
   "outputs": [],
   "source": [
    "with open('modal_template.html', 'r') as f: story_template = f.read()"
   ]
  },
  {
   "cell_type": "markdown",
   "metadata": {},
   "source": [
    "### Uncomment the following to get a quick list of modal template variables"
   ]
  },
  {
   "cell_type": "code",
   "execution_count": 12,
   "metadata": {
    "collapsed": true
   },
   "outputs": [],
   "source": [
    "# print(*findall('{(.*?)}', story_template), sep=\"=row['xxx'], \")"
   ]
  },
  {
   "cell_type": "code",
   "execution_count": 13,
   "metadata": {
    "collapsed": true
   },
   "outputs": [],
   "source": [
    "def addParagraphs(rawtext):\n",
    "    rawtext = rawtext.replace('« ', '«').replace(' »', '')\n",
    "    p_list = rawtext.split('\\n')\n",
    "    for p in p_list:\n",
    "        if p.find('.') < 0:\n",
    "            p = '<b>' + p + '</b>'\n",
    "    return \"<p>\" + \"</p>\\n<p>\".join(p_list) + \"</p>\""
   ]
  },
  {
   "cell_type": "code",
   "execution_count": 14,
   "metadata": {
    "collapsed": true
   },
   "outputs": [],
   "source": [
    "teasers = ''\n",
    "modals = ''\n",
    "nextSubject = ''\n",
    "for i, row in df[:story_limit].iterrows():\n",
    "    if not isinstance(row['Corps du texte'], str):\n",
    "        nextSubject = row['Titre']\n",
    "        break\n",
    "    \n",
    "    body = row['Corps du texte'].strip()\n",
    "    if body.find('<p>') < 0:\n",
    "        body = addParagraphs(body)\n",
    "    \n",
    "    social = getSocial(row['No'], row['Titre'])\n",
    "    teasers = teaser.format(storyid=row['No'], h4=row['Date'], h2=row['Titre'],\n",
    "                            img=row['URL image'], lead=row['Chapeau']) + teasers\n",
    "    \n",
    "    modals += story_template.format(storyid=row['No'], title=row['Titre'], lead=row['Chapeau'],\n",
    "                                    social=getSocial(row['No'], row['Titre']),\n",
    "                                    more_link=getMoreLink(row['En savoir plus']),\n",
    "                                    img=row['URL image'], legend=row['Légende image'],\n",
    "                                    credit=row['Crédit image'], author=row['Auteur(s)'],\n",
    "                                    media=row['Média'], body=body)"
   ]
  },
  {
   "cell_type": "code",
   "execution_count": 15,
   "metadata": {
    "collapsed": true
   },
   "outputs": [],
   "source": [
    "with open('template_week_{}.html'.format(week), 'r', encoding=\"utf-8\") as f: template = f.read()\n",
    "template = template.replace('[TEASERS]', teasers).replace('[MODALS]', modals)"
   ]
  },
  {
   "cell_type": "code",
   "execution_count": 16,
   "metadata": {},
   "outputs": [
    {
     "name": "stdout",
     "output_type": "stream",
     "text": [
      "PHOTO 4-1\n",
      "PHOTO 4-5\n"
     ]
    }
   ],
   "source": [
    "for i in findall('(PHOTO.*?-\\d)', template):\n",
    "    print(i)"
   ]
  },
  {
   "cell_type": "code",
   "execution_count": 17,
   "metadata": {},
   "outputs": [
    {
     "data": {
      "text/plain": [
       "{'4-1': '            <img class=\"stretch\" src=\"_img/chap4/modal4/photo1.jpg\" />\\n            <p class=\"legende\">Une session de sensibilisation des communautés et des travailleurs de santé organisée par Breakthrough dans le cadre de la campagne «Mission 1000». <span class=\"credit\">Breakthrough India</span></p>\\n',\n",
       " '4-2': '            <img class=\"stretch\" src=\"_img/chap4/modal4/photo2.jpg\" />\\n            <p class=\"legende\">nan <span class=\"credit\">Breakthrough India</span></p>\\n',\n",
       " '4-5': '            <img class=\"stretch\" src=\"_img/chap4/modal4/photo5.jpg\" />\\n            <p class=\"legende\">Le programme «Taaron Ki Toli» promeut l’égalité hommes-femmes dans les écoles. <span class=\"credit\">Breakthrough India</span></p>\\n'}"
      ]
     },
     "execution_count": 17,
     "metadata": {},
     "output_type": "execute_result"
    }
   ],
   "source": [
    "images_corps"
   ]
  },
  {
   "cell_type": "code",
   "execution_count": 18,
   "metadata": {},
   "outputs": [
    {
     "name": "stdout",
     "output_type": "stream",
     "text": [
      "PHOTO 4-1 remplacé par             <img class=\"stretch\" src=\"_img/chap4/modal4/photo1.jpg\" />\n",
      "            <p class=\"legende\">Une session de sensibilisation des communautés et des travailleurs de santé organisée par Breakthrough dans le cadre de la campagne «Mission 1000». <span class=\"credit\">Breakthrough India</span></p>\n",
      "\n",
      "---\n",
      "PHOTO 4-5 remplacé par             <img class=\"stretch\" src=\"_img/chap4/modal4/photo5.jpg\" />\n",
      "            <p class=\"legende\">Le programme «Taaron Ki Toli» promeut l’égalité hommes-femmes dans les écoles. <span class=\"credit\">Breakthrough India</span></p>\n",
      "\n",
      "---\n"
     ]
    }
   ],
   "source": [
    "for i in findall('(PHOTO.*?-\\d)', template):\n",
    "    targetImage = images_corps[i.split(' ')[-1]]\n",
    "    print(i, 'remplacé par', targetImage)\n",
    "    print('---')\n",
    "    template = template.replace(i, targetImage)"
   ]
  },
  {
   "cell_type": "code",
   "execution_count": 19,
   "metadata": {
    "collapsed": true
   },
   "outputs": [],
   "source": [
    "template = template.replace('NOM_CHAPITRE', week_titles[week])\n",
    "template = template.replace('VISUEL_SEMAINE', week_visuals[week])"
   ]
  },
  {
   "cell_type": "code",
   "execution_count": 20,
   "metadata": {
    "collapsed": true
   },
   "outputs": [],
   "source": [
    "filename = 'semaine{}.html'.format(week)\n",
    "tempFilename = 'semaine{}-test.html'.format(week)"
   ]
  },
  {
   "cell_type": "code",
   "execution_count": 21,
   "metadata": {
    "collapsed": true
   },
   "outputs": [],
   "source": [
    "with open('{}{}'.format(LOCAL_FOLDER, filename), 'w', encoding=\"utf-8\") as outputfile:\n",
    "    outputfile.write(template)"
   ]
  },
  {
   "cell_type": "code",
   "execution_count": 22,
   "metadata": {
    "collapsed": true
   },
   "outputs": [],
   "source": [
    "if week == 2:\n",
    "    !open -a \"Google Chrome\" '/Users/paul/Sites/womeninaction/semaine2.html'\n",
    "elif week == 3:\n",
    "    !open -a \"Google Chrome\" '/Users/paul/Sites/womeninaction/semaine3.html'\n",
    "elif week == 4:\n",
    "    !open -a \"Google Chrome\" '/Users/paul/Sites/womeninaction/semaine4.html'"
   ]
  },
  {
   "cell_type": "code",
   "execution_count": 23,
   "metadata": {
    "collapsed": true
   },
   "outputs": [],
   "source": [
    "with open(filename, 'w', encoding=\"utf-8\") as outputfile:\n",
    "    outputfile.write(template)"
   ]
  },
  {
   "cell_type": "markdown",
   "metadata": {},
   "source": [
    "### Conversion pour VQH"
   ]
  },
  {
   "cell_type": "code",
   "execution_count": 24,
   "metadata": {
    "collapsed": true
   },
   "outputs": [],
   "source": [
    "with open('{}'.format(filename), 'r', encoding=\"utf-8\") as indexfile:\n",
    "    tempContents = indexfile.read()"
   ]
  },
  {
   "cell_type": "code",
   "execution_count": null,
   "metadata": {},
   "outputs": [],
   "source": []
  },
  {
   "cell_type": "code",
   "execution_count": 25,
   "metadata": {
    "collapsed": true
   },
   "outputs": [],
   "source": [
    "tempContents = tempContents.replace(BASEURL, BASEURL_VQH).replace('tdg.ch', '24heures.ch')\n",
    "tempContents = tempContents.replace('</title>', '</title>\\n<base href=\"https://www.24heures.ch/extern/interactive_wch/tdg/womeninaction/\" />')\n",
    "\n",
    "for key, value in video_replacements.items():\n",
    "    tempContents = tempContents.replace(key, value)"
   ]
  },
  {
   "cell_type": "code",
   "execution_count": 26,
   "metadata": {
    "collapsed": true
   },
   "outputs": [],
   "source": [
    "with open('vqh/{}'.format(filename), 'w', encoding=\"utf-8\") as outputfile:\n",
    "    outputfile.write(tempContents)"
   ]
  },
  {
   "cell_type": "markdown",
   "metadata": {
    "collapsed": true
   },
   "source": [
    "# FTP"
   ]
  },
  {
   "cell_type": "code",
   "execution_count": 27,
   "metadata": {
    "collapsed": true
   },
   "outputs": [],
   "source": [
    "from ftplib import FTP\n",
    "ftp = FTP(define.host, define.user, define.password)  "
   ]
  },
  {
   "cell_type": "code",
   "execution_count": 28,
   "metadata": {},
   "outputs": [
    {
     "data": {
      "text/plain": [
       "'250 CWD command successful'"
      ]
     },
     "execution_count": 28,
     "metadata": {},
     "output_type": "execute_result"
    }
   ],
   "source": [
    "ftp.cwd('/tdg/womeninaction')"
   ]
  },
  {
   "cell_type": "code",
   "execution_count": 29,
   "metadata": {},
   "outputs": [
    {
     "data": {
      "text/plain": [
       "'226 Transfer complete'"
      ]
     },
     "execution_count": 29,
     "metadata": {},
     "output_type": "execute_result"
    }
   ],
   "source": [
    "temp_filename = 'semaine{}-test.html'.format(week)\n",
    "ftp.storlines(\"STOR \" + temp_filename, open('{}'.format(filename), 'rb'))\n"
   ]
  },
  {
   "cell_type": "markdown",
   "metadata": {},
   "source": [
    "## Put into prod tdg.ch"
   ]
  },
  {
   "cell_type": "code",
   "execution_count": 30,
   "metadata": {},
   "outputs": [
    {
     "name": "stdout",
     "output_type": "stream",
     "text": [
      "\n"
     ]
    }
   ],
   "source": [
    "goForward = input()\n",
    "if goForward != '':\n",
    "    raise ValueError('Script interrompu')"
   ]
  },
  {
   "cell_type": "code",
   "execution_count": 31,
   "metadata": {},
   "outputs": [
    {
     "data": {
      "text/plain": [
       "'semaine4_12-08_17h03.html'"
      ]
     },
     "execution_count": 31,
     "metadata": {},
     "output_type": "execute_result"
    }
   ],
   "source": [
    "targetName = datetime.now().strftime(\"semaine{}_%m-%d_%Hh%M\") + '.html'\n",
    "targetName = targetName.format(week)\n",
    "targetName"
   ]
  },
  {
   "cell_type": "code",
   "execution_count": 32,
   "metadata": {},
   "outputs": [
    {
     "data": {
      "text/plain": [
       "'semaine4.html'"
      ]
     },
     "execution_count": 32,
     "metadata": {},
     "output_type": "execute_result"
    }
   ],
   "source": [
    "filename"
   ]
  },
  {
   "cell_type": "code",
   "execution_count": 33,
   "metadata": {},
   "outputs": [
    {
     "data": {
      "text/plain": [
       "'250 Rename successful'"
      ]
     },
     "execution_count": 33,
     "metadata": {},
     "output_type": "execute_result"
    }
   ],
   "source": [
    "#FTP.rename?\n",
    "ftp.rename(filename, targetName)\n",
    "ftp.rename(tempFilename, filename)"
   ]
  },
  {
   "cell_type": "markdown",
   "metadata": {},
   "source": [
    "## Put into prod 24heures.ch"
   ]
  },
  {
   "cell_type": "code",
   "execution_count": 35,
   "metadata": {},
   "outputs": [
    {
     "data": {
      "text/plain": [
       "'226 Transfer complete'"
      ]
     },
     "execution_count": 35,
     "metadata": {},
     "output_type": "execute_result"
    }
   ],
   "source": [
    "ftp.storlines(\"STOR \" + temp_filename, open('vqh/{}'.format(filename), 'rb'))\n",
    "\n"
   ]
  },
  {
   "cell_type": "code",
   "execution_count": 36,
   "metadata": {},
   "outputs": [
    {
     "data": {
      "text/plain": [
       "'250 Rename successful'"
      ]
     },
     "execution_count": 36,
     "metadata": {},
     "output_type": "execute_result"
    }
   ],
   "source": [
    "#FTP.rename?\n",
    "#ftp.rename(filename, targetName)\n",
    "ftp.rename(tempFilename, filename)"
   ]
  },
  {
   "cell_type": "code",
   "execution_count": 37,
   "metadata": {},
   "outputs": [
    {
     "name": "stdout",
     "output_type": "stream",
     "text": [
      "https://tdg.ch/extern/interactive_wch/tdg/womeninaction/semaine4.html?article=5\n",
      "https://www.24heures.ch/extern/interactive_wch/womeninaction/semaine4.html?article=5\n"
     ]
    }
   ],
   "source": [
    "print(BASEURL + 'semaine{}.html?article={}'.format(week, story_limit))\n",
    "print(BASEURL_VQH + 'semaine{}.html?article={}'.format(week, story_limit))"
   ]
  },
  {
   "cell_type": "code",
   "execution_count": 38,
   "metadata": {},
   "outputs": [
    {
     "name": "stdout",
     "output_type": "stream",
     "text": [
      "https://tdg.ch/extern/interactive_wch/tdg/womeninaction/semaine4.html?article=5\n"
     ]
    }
   ],
   "source": [
    "print(week_url + '?article=' + str(story_limit))"
   ]
  },
  {
   "cell_type": "markdown",
   "metadata": {},
   "source": [
    "### These commands will only work on a Mac and some other unix-based system"
   ]
  },
  {
   "cell_type": "code",
   "execution_count": 39,
   "metadata": {
    "collapsed": true
   },
   "outputs": [],
   "source": [
    "!open -a \"Google Chrome\" 'https://www.tdg.ch/extern/interactive_wch/tdg/womeninaction/semaine4.html'"
   ]
  },
  {
   "cell_type": "code",
   "execution_count": 40,
   "metadata": {
    "collapsed": true
   },
   "outputs": [],
   "source": [
    "!open -a \"Google Chrome\" 'https://www.24heures.ch/extern/interactive_wch/womeninaction/semaine4.html'"
   ]
  },
  {
   "cell_type": "code",
   "execution_count": null,
   "metadata": {
    "collapsed": true
   },
   "outputs": [],
   "source": []
  }
 ],
 "metadata": {
  "kernelspec": {
   "display_name": "Python 3",
   "language": "python",
   "name": "python3"
  },
  "language_info": {
   "codemirror_mode": {
    "name": "ipython",
    "version": 3
   },
   "file_extension": ".py",
   "mimetype": "text/x-python",
   "name": "python",
   "nbconvert_exporter": "python",
   "pygments_lexer": "ipython3",
   "version": "3.5.1"
  }
 },
 "nbformat": 4,
 "nbformat_minor": 2
}
